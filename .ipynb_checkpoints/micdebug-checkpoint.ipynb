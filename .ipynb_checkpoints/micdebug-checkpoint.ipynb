{
 "cells": [
  {
   "cell_type": "markdown",
   "id": "026be8e9-9f21-4bef-83f0-95c07ec367e4",
   "metadata": {},
   "source": [
    "отладка микрофона для одновременного воспроизведения и записи сигналов"
   ]
  },
  {
   "cell_type": "code",
   "execution_count": 1,
   "id": "1ba66c9d-3e6e-4090-99e3-3af2900b1fc7",
   "metadata": {},
   "outputs": [],
   "source": [
    "import sounddevice as sd\n",
    "import numpy as np\n",
    " \n",
    "smpl_rate = 44100\n",
    " \n",
    "my_arr = np.random.uniform(-1,1,smpl_rate)\n",
    "recordd= sd.playrec(my_arr, smpl_rate, channels=2)\n",
    " \n",
    "sd.wait()"
   ]
  },
  {
   "cell_type": "code",
   "execution_count": null,
   "id": "9a22e9af-c8ea-46b4-ad37-5eabe0fe5f51",
   "metadata": {},
   "outputs": [],
   "source": []
  }
 ],
 "metadata": {
  "kernelspec": {
   "display_name": "Python 3.9.12 64-bit",
   "language": "python",
   "name": "python3"
  },
  "language_info": {
   "codemirror_mode": {
    "name": "ipython",
    "version": 3
   },
   "file_extension": ".py",
   "mimetype": "text/x-python",
   "name": "python",
   "nbconvert_exporter": "python",
   "pygments_lexer": "ipython3",
   "version": "3.9.12"
  },
  "vscode": {
   "interpreter": {
    "hash": "52634da84371cba311ea128a5ea7cdc41ff074b781779e754b270ff9f8153cee"
   }
  }
 },
 "nbformat": 4,
 "nbformat_minor": 5
}
